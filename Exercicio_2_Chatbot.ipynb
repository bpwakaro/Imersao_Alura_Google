{
  "nbformat": 4,
  "nbformat_minor": 0,
  "metadata": {
    "colab": {
      "provenance": [],
      "authorship_tag": "ABX9TyNJ0aDOpfPsImWk822RYeOj",
      "include_colab_link": true
    },
    "kernelspec": {
      "name": "python3",
      "display_name": "Python 3"
    },
    "language_info": {
      "name": "python"
    }
  },
  "cells": [
    {
      "cell_type": "markdown",
      "metadata": {
        "id": "view-in-github",
        "colab_type": "text"
      },
      "source": [
        "<a href=\"https://colab.research.google.com/github/bpwakaro/Imersao_Alura_Google/blob/Aula_4/Exercicio_2_Chatbot.ipynb\" target=\"_parent\"><img src=\"https://colab.research.google.com/assets/colab-badge.svg\" alt=\"Open In Colab\"/></a>"
      ]
    },
    {
      "cell_type": "code",
      "execution_count": 2,
      "metadata": {
        "id": "mDHlxMUvnSTv"
      },
      "outputs": [],
      "source": [
        "!pip install -q -U google-generativeai"
      ]
    },
    {
      "cell_type": "code",
      "source": [
        "# Import the Python SDK\n",
        "import google.generativeai as genai\n",
        "\n",
        "from google.colab import userdata\n",
        "api_key = userdata.get(\"chave_secreta\")\n",
        "genai.configure(api_key=api_key)"
      ],
      "metadata": {
        "id": "k1Gh5tQLoSwr"
      },
      "execution_count": 30,
      "outputs": []
    },
    {
      "cell_type": "code",
      "source": [
        "for m in genai.list_models():\n",
        "  if 'generateContent' in m.supported_generation_methods:\n",
        "    print(m.name)"
      ],
      "metadata": {
        "colab": {
          "base_uri": "https://localhost:8080/",
          "height": 136
        },
        "id": "VixcOvsyrZNV",
        "outputId": "1b5f4349-b81c-44a9-c1ec-5f22d1d64380"
      },
      "execution_count": 14,
      "outputs": [
        {
          "output_type": "stream",
          "name": "stdout",
          "text": [
            "models/gemini-1.0-pro\n",
            "models/gemini-1.0-pro-001\n",
            "models/gemini-1.0-pro-latest\n",
            "models/gemini-1.0-pro-vision-latest\n",
            "models/gemini-1.5-pro-latest\n",
            "models/gemini-pro\n",
            "models/gemini-pro-vision\n"
          ]
        }
      ]
    },
    {
      "cell_type": "code",
      "source": [
        "genai_config = {\n",
        "    \"candidate_count\": 1,\n",
        "    \"temperature\": 0.5,\n",
        "}"
      ],
      "metadata": {
        "id": "bXyYyNaxsAFY"
      },
      "execution_count": 11,
      "outputs": []
    },
    {
      "cell_type": "code",
      "source": [
        "genai_safety = {\n",
        "    \"HARASSMENT\": \"block_none\",\n",
        "    \"HATE\": \"block_none\",\n",
        "    \"SEXUAL\":\"block_none\",\n",
        "    \"DANGEROUS\":\"block_none\",\n",
        "}"
      ],
      "metadata": {
        "id": "BVOu3du4tvwx"
      },
      "execution_count": 22,
      "outputs": []
    },
    {
      "cell_type": "code",
      "source": [
        "modelo = genai.GenerativeModel(model_name=\"gemini-1.0-pro\",generation_config=genai_config,safety_settings=genai_safety)"
      ],
      "metadata": {
        "id": "E9VIDuykuTrO"
      },
      "execution_count": 23,
      "outputs": []
    },
    {
      "cell_type": "code",
      "source": [
        "resposta = model.generate_content(\"Oi, tudo bem?\")\n",
        "print(resposta.text)"
      ],
      "metadata": {
        "colab": {
          "base_uri": "https://localhost:8080/",
          "height": 34
        },
        "id": "mCMo3sNDvi-S",
        "outputId": "85fd7fb6-8530-484f-b136-334a9b68632f"
      },
      "execution_count": 24,
      "outputs": [
        {
          "output_type": "stream",
          "name": "stdout",
          "text": [
            "Oi, tudo bem sim, e você?\n"
          ]
        }
      ]
    },
    {
      "cell_type": "code",
      "source": [
        "chat = model.start_chat(history=[])"
      ],
      "metadata": {
        "id": "aXRINh_nxV6M"
      },
      "execution_count": 25,
      "outputs": []
    },
    {
      "cell_type": "code",
      "source": [
        "prompt = input(\"Digite seu prompt.\")\n",
        "\n",
        "while prompt != \"fim\":\n",
        "  resposta = chat.send_message(prompt)\n",
        "  print(\"Resposta: \",resposta.text, \"\\n\")\n",
        "  prompt = input(\"Digite seu prompt.\")"
      ],
      "metadata": {
        "colab": {
          "base_uri": "https://localhost:8080/",
          "height": 136
        },
        "id": "efGZGu3ux0Ty",
        "outputId": "bb0efd73-806e-43ad-88c7-603bb97af13e"
      },
      "execution_count": 28,
      "outputs": [
        {
          "name": "stdout",
          "output_type": "stream",
          "text": [
            "Digite seu prompt.Qual é a capital do Japão?\n",
            "Resposta:  Tóquio \n",
            "\n",
            "Digite seu prompt.Em que continente que fica?\n",
            "Resposta:  Ásia \n",
            "\n",
            "Digite seu prompt.fim\n"
          ]
        }
      ]
    },
    {
      "cell_type": "code",
      "source": [],
      "metadata": {
        "id": "xxTBm1gIzjbE"
      },
      "execution_count": null,
      "outputs": []
    }
  ]
}